{
 "cells": [
  {
   "cell_type": "markdown",
   "metadata": {},
   "source": [
    "## Project 2\n"
   ]
  },
  {
   "cell_type": "code",
   "execution_count": 3,
   "metadata": {
    "collapsed": false
   },
   "outputs": [],
   "source": [
    "\n",
    "import pandas as pd\n",
    "import numpy as np\n",
    "import itertools\n",
    "import time\n",
    "import statsmodels.api as sm\n",
    "import matplotlib.pyplot as plt\n",
    "\n",
    "from sklearn.linear_model import LinearRegression\n",
    "from sklearn.metrics import mean_squared_error\n",
    "from sklearn.model_selection import train_test_split\n"
   ]
  },
  {
   "cell_type": "code",
   "execution_count": 4,
   "metadata": {},
   "outputs": [
    {
     "data": {
      "text/html": [
       "<div>\n",
       "<style scoped>\n",
       "    .dataframe tbody tr th:only-of-type {\n",
       "        vertical-align: middle;\n",
       "    }\n",
       "\n",
       "    .dataframe tbody tr th {\n",
       "        vertical-align: top;\n",
       "    }\n",
       "\n",
       "    .dataframe thead th {\n",
       "        text-align: right;\n",
       "    }\n",
       "</style>\n",
       "<table border=\"1\" class=\"dataframe\">\n",
       "  <thead>\n",
       "    <tr style=\"text-align: right;\">\n",
       "      <th></th>\n",
       "      <th>RelCompactness</th>\n",
       "      <th>SurfaceArea</th>\n",
       "      <th>WallArea</th>\n",
       "      <th>RoofArea</th>\n",
       "      <th>OverallHgt</th>\n",
       "      <th>Orientation</th>\n",
       "      <th>GlazingArea</th>\n",
       "      <th>GlazingAreaDist</th>\n",
       "      <th>HeatingLoad</th>\n",
       "    </tr>\n",
       "  </thead>\n",
       "  <tbody>\n",
       "    <tr>\n",
       "      <th>0</th>\n",
       "      <td>0.98</td>\n",
       "      <td>514.5</td>\n",
       "      <td>294.0</td>\n",
       "      <td>110.25</td>\n",
       "      <td>7.0</td>\n",
       "      <td>2.0</td>\n",
       "      <td>0.0</td>\n",
       "      <td>0.0</td>\n",
       "      <td>15.55</td>\n",
       "    </tr>\n",
       "    <tr>\n",
       "      <th>1</th>\n",
       "      <td>0.98</td>\n",
       "      <td>514.5</td>\n",
       "      <td>294.0</td>\n",
       "      <td>110.25</td>\n",
       "      <td>7.0</td>\n",
       "      <td>3.0</td>\n",
       "      <td>0.0</td>\n",
       "      <td>0.0</td>\n",
       "      <td>15.55</td>\n",
       "    </tr>\n",
       "    <tr>\n",
       "      <th>2</th>\n",
       "      <td>0.98</td>\n",
       "      <td>514.5</td>\n",
       "      <td>294.0</td>\n",
       "      <td>110.25</td>\n",
       "      <td>7.0</td>\n",
       "      <td>4.0</td>\n",
       "      <td>0.0</td>\n",
       "      <td>0.0</td>\n",
       "      <td>15.55</td>\n",
       "    </tr>\n",
       "    <tr>\n",
       "      <th>3</th>\n",
       "      <td>0.98</td>\n",
       "      <td>514.5</td>\n",
       "      <td>294.0</td>\n",
       "      <td>110.25</td>\n",
       "      <td>7.0</td>\n",
       "      <td>5.0</td>\n",
       "      <td>0.0</td>\n",
       "      <td>0.0</td>\n",
       "      <td>15.55</td>\n",
       "    </tr>\n",
       "    <tr>\n",
       "      <th>4</th>\n",
       "      <td>0.90</td>\n",
       "      <td>563.5</td>\n",
       "      <td>318.5</td>\n",
       "      <td>122.50</td>\n",
       "      <td>7.0</td>\n",
       "      <td>2.0</td>\n",
       "      <td>0.0</td>\n",
       "      <td>0.0</td>\n",
       "      <td>20.84</td>\n",
       "    </tr>\n",
       "  </tbody>\n",
       "</table>\n",
       "</div>"
      ],
      "text/plain": [
       "   RelCompactness  SurfaceArea  WallArea  RoofArea  OverallHgt  Orientation  \\\n",
       "0            0.98        514.5     294.0    110.25         7.0          2.0   \n",
       "1            0.98        514.5     294.0    110.25         7.0          3.0   \n",
       "2            0.98        514.5     294.0    110.25         7.0          4.0   \n",
       "3            0.98        514.5     294.0    110.25         7.0          5.0   \n",
       "4            0.90        563.5     318.5    122.50         7.0          2.0   \n",
       "\n",
       "   GlazingArea  GlazingAreaDist  HeatingLoad  \n",
       "0          0.0              0.0        15.55  \n",
       "1          0.0              0.0        15.55  \n",
       "2          0.0              0.0        15.55  \n",
       "3          0.0              0.0        15.55  \n",
       "4          0.0              0.0        20.84  "
      ]
     },
     "execution_count": 4,
     "metadata": {},
     "output_type": "execute_result"
    }
   ],
   "source": [
    "# read in the data to dataframe called heat\n",
    "heat = pd.read_csv(\" https://webpages.charlotte.edu/mschuck1/classes/DTSC2301/Data/DTSC2301_Project2.csv\", na_values=['?'])\n",
    "heat.head()"
   ]
  },
  {
   "cell_type": "code",
   "execution_count": 5,
   "metadata": {},
   "outputs": [
    {
     "data": {
      "text/plain": [
       "(1296, 9)"
      ]
     },
     "execution_count": 5,
     "metadata": {},
     "output_type": "execute_result"
    }
   ],
   "source": [
    "heat.shape"
   ]
  },
  {
   "cell_type": "code",
   "execution_count": 6,
   "metadata": {},
   "outputs": [
    {
     "data": {
      "text/plain": [
       "RelCompactness     528\n",
       "SurfaceArea        528\n",
       "WallArea           528\n",
       "RoofArea           528\n",
       "OverallHgt         528\n",
       "Orientation        528\n",
       "GlazingArea        528\n",
       "GlazingAreaDist    528\n",
       "HeatingLoad        528\n",
       "dtype: int64"
      ]
     },
     "execution_count": 6,
     "metadata": {},
     "output_type": "execute_result"
    }
   ],
   "source": [
    "heat.isnull().sum()"
   ]
  },
  {
   "cell_type": "code",
   "execution_count": 7,
   "metadata": {},
   "outputs": [
    {
     "data": {
      "text/plain": [
       "RelCompactness     0\n",
       "SurfaceArea        0\n",
       "WallArea           0\n",
       "RoofArea           0\n",
       "OverallHgt         0\n",
       "Orientation        0\n",
       "GlazingArea        0\n",
       "GlazingAreaDist    0\n",
       "HeatingLoad        0\n",
       "dtype: int64"
      ]
     },
     "execution_count": 7,
     "metadata": {},
     "output_type": "execute_result"
    }
   ],
   "source": [
    "\n",
    "# replace the ? in the data with NaN for missing values\n",
    "heat.replace([' ?'],np.nan)\n",
    "heat = heat.dropna()\n",
    "heat.isnull().sum()"
   ]
  },
  {
   "cell_type": "code",
   "execution_count": 8,
   "metadata": {},
   "outputs": [
    {
     "data": {
      "text/plain": [
       "(768, 9)"
      ]
     },
     "execution_count": 8,
     "metadata": {},
     "output_type": "execute_result"
    }
   ],
   "source": [
    "heat.shape"
   ]
  },
  {
   "cell_type": "code",
   "execution_count": 9,
   "metadata": {},
   "outputs": [
    {
     "name": "stdout",
     "output_type": "stream",
     "text": [
      "<class 'pandas.core.frame.DataFrame'>\n",
      "Index: 768 entries, 0 to 767\n",
      "Data columns (total 9 columns):\n",
      " #   Column           Non-Null Count  Dtype  \n",
      "---  ------           --------------  -----  \n",
      " 0   RelCompactness   768 non-null    float64\n",
      " 1   SurfaceArea      768 non-null    float64\n",
      " 2   WallArea         768 non-null    float64\n",
      " 3   RoofArea         768 non-null    float64\n",
      " 4   OverallHgt       768 non-null    float64\n",
      " 5   Orientation      768 non-null    float64\n",
      " 6   GlazingArea      768 non-null    float64\n",
      " 7   GlazingAreaDist  768 non-null    float64\n",
      " 8   HeatingLoad      768 non-null    float64\n",
      "dtypes: float64(9)\n",
      "memory usage: 60.0 KB\n"
     ]
    }
   ],
   "source": [
    "\n",
    "# show information about the dataframe\n",
    "heat.info()"
   ]
  },
  {
   "cell_type": "code",
   "execution_count": 10,
   "metadata": {},
   "outputs": [
    {
     "name": "stdout",
     "output_type": "stream",
     "text": [
      "<class 'pandas.core.frame.DataFrame'>\n",
      "Index: 768 entries, 0 to 767\n",
      "Data columns (total 9 columns):\n",
      " #   Column           Non-Null Count  Dtype  \n",
      "---  ------           --------------  -----  \n",
      " 0   RelCompactness   768 non-null    float64\n",
      " 1   SurfaceArea      768 non-null    float64\n",
      " 2   WallArea         768 non-null    float64\n",
      " 3   RoofArea         768 non-null    float64\n",
      " 4   OverallHgt       768 non-null    float64\n",
      " 5   Orientation      768 non-null    float64\n",
      " 6   GlazingArea      768 non-null    float64\n",
      " 7   GlazingAreaDist  768 non-null    float64\n",
      " 8   HeatingLoad      768 non-null    float64\n",
      "dtypes: float64(9)\n",
      "memory usage: 60.0 KB\n"
     ]
    }
   ],
   "source": [
    "\n",
    "heat = heat.dropna()\n",
    "# show information about the dataframe\n",
    "heat.info()"
   ]
  },
  {
   "cell_type": "code",
   "execution_count": 11,
   "metadata": {},
   "outputs": [],
   "source": [
    "X1 = heat[['RelCompactness', 'WallArea', 'RoofArea', 'Orientation', 'GlazingAreaDist']]  \n",
    "y = heat['HeatingLoad']"
   ]
  },
  {
   "cell_type": "code",
   "execution_count": 12,
   "metadata": {},
   "outputs": [
    {
     "name": "stdout",
     "output_type": "stream",
     "text": [
      "Root Mean Squared Error: 4.11701686577224\n",
      "Coefficients: [-1.45943689e+02 -1.25587360e-01 -5.24955361e-01 -2.33281250e-02\n",
      "  5.68393970e-01]\n",
      "Intercept: 265.02442143545875\n"
     ]
    }
   ],
   "source": [
    "# Create a linear regression model\n",
    "heatload_model = LinearRegression()\n",
    "\n",
    "# Fit the model on the data\n",
    "heatload_model.fit(X1, y)\n",
    "\n",
    "# Make predictions on the data\n",
    "y_hat1 = heatload_model.predict(X1)\n",
    "# Evaluate the model performance (RMSE)\n",
    "rmse1 = np.sqrt(mean_squared_error(y, y_hat1))\n",
    "print('Root Mean Squared Error:', rmse1)\n",
    "\n",
    "# Get the coefficients and intercept\n",
    "print('Coefficients:', heatload_model.coef_)\n",
    "print('Intercept:', heatload_model.intercept_)"
   ]
  },
  {
   "cell_type": "code",
   "execution_count": 13,
   "metadata": {},
   "outputs": [
    {
     "data": {
      "text/html": [
       "<table class=\"simpletable\">\n",
       "<caption>OLS Regression Results</caption>\n",
       "<tr>\n",
       "  <th>Dep. Variable:</th>       <td>HeatingLoad</td>   <th>  R-squared:         </th> <td>   0.833</td> \n",
       "</tr>\n",
       "<tr>\n",
       "  <th>Model:</th>                   <td>OLS</td>       <th>  Adj. R-squared:    </th> <td>   0.832</td> \n",
       "</tr>\n",
       "<tr>\n",
       "  <th>Method:</th>             <td>Least Squares</td>  <th>  F-statistic:       </th> <td>   761.8</td> \n",
       "</tr>\n",
       "<tr>\n",
       "  <th>Date:</th>             <td>Thu, 27 Feb 2025</td> <th>  Prob (F-statistic):</th> <td>1.54e-293</td>\n",
       "</tr>\n",
       "<tr>\n",
       "  <th>Time:</th>                 <td>23:19:53</td>     <th>  Log-Likelihood:    </th> <td> -2176.6</td> \n",
       "</tr>\n",
       "<tr>\n",
       "  <th>No. Observations:</th>      <td>   768</td>      <th>  AIC:               </th> <td>   4365.</td> \n",
       "</tr>\n",
       "<tr>\n",
       "  <th>Df Residuals:</th>          <td>   762</td>      <th>  BIC:               </th> <td>   4393.</td> \n",
       "</tr>\n",
       "<tr>\n",
       "  <th>Df Model:</th>              <td>     5</td>      <th>                     </th>     <td> </td>    \n",
       "</tr>\n",
       "<tr>\n",
       "  <th>Covariance Type:</th>      <td>nonrobust</td>    <th>                     </th>     <td> </td>    \n",
       "</tr>\n",
       "</table>\n",
       "<table class=\"simpletable\">\n",
       "<tr>\n",
       "         <td></td>            <th>coef</th>     <th>std err</th>      <th>t</th>      <th>P>|t|</th>  <th>[0.025</th>    <th>0.975]</th>  \n",
       "</tr>\n",
       "<tr>\n",
       "  <th>const</th>           <td>  265.0244</td> <td>   17.570</td> <td>   15.084</td> <td> 0.000</td> <td>  230.534</td> <td>  299.515</td>\n",
       "</tr>\n",
       "<tr>\n",
       "  <th>RelCompactness</th>  <td> -145.9437</td> <td>   11.144</td> <td>  -13.097</td> <td> 0.000</td> <td> -167.819</td> <td> -124.068</td>\n",
       "</tr>\n",
       "<tr>\n",
       "  <th>WallArea</th>        <td>   -0.1256</td> <td>    0.014</td> <td>   -8.978</td> <td> 0.000</td> <td>   -0.153</td> <td>   -0.098</td>\n",
       "</tr>\n",
       "<tr>\n",
       "  <th>RoofArea</th>        <td>   -0.5250</td> <td>    0.027</td> <td>  -19.649</td> <td> 0.000</td> <td>   -0.577</td> <td>   -0.473</td>\n",
       "</tr>\n",
       "<tr>\n",
       "  <th>Orientation</th>     <td>   -0.0233</td> <td>    0.133</td> <td>   -0.175</td> <td> 0.861</td> <td>   -0.285</td> <td>    0.239</td>\n",
       "</tr>\n",
       "<tr>\n",
       "  <th>GlazingAreaDist</th> <td>    0.5684</td> <td>    0.096</td> <td>    5.907</td> <td> 0.000</td> <td>    0.379</td> <td>    0.757</td>\n",
       "</tr>\n",
       "</table>\n",
       "<table class=\"simpletable\">\n",
       "<tr>\n",
       "  <th>Omnibus:</th>       <td>17.608</td> <th>  Durbin-Watson:     </th> <td>   0.431</td>\n",
       "</tr>\n",
       "<tr>\n",
       "  <th>Prob(Omnibus):</th> <td> 0.000</td> <th>  Jarque-Bera (JB):  </th> <td>  29.805</td>\n",
       "</tr>\n",
       "<tr>\n",
       "  <th>Skew:</th>          <td> 0.151</td> <th>  Prob(JB):          </th> <td>3.37e-07</td>\n",
       "</tr>\n",
       "<tr>\n",
       "  <th>Kurtosis:</th>      <td> 3.917</td> <th>  Cond. No.          </th> <td>5.10e+04</td>\n",
       "</tr>\n",
       "</table><br/><br/>Notes:<br/>[1] Standard Errors assume that the covariance matrix of the errors is correctly specified.<br/>[2] The condition number is large, 5.1e+04. This might indicate that there are<br/>strong multicollinearity or other numerical problems."
      ],
      "text/latex": [
       "\\begin{center}\n",
       "\\begin{tabular}{lclc}\n",
       "\\toprule\n",
       "\\textbf{Dep. Variable:}    &   HeatingLoad    & \\textbf{  R-squared:         } &     0.833   \\\\\n",
       "\\textbf{Model:}            &       OLS        & \\textbf{  Adj. R-squared:    } &     0.832   \\\\\n",
       "\\textbf{Method:}           &  Least Squares   & \\textbf{  F-statistic:       } &     761.8   \\\\\n",
       "\\textbf{Date:}             & Thu, 27 Feb 2025 & \\textbf{  Prob (F-statistic):} & 1.54e-293   \\\\\n",
       "\\textbf{Time:}             &     23:19:53     & \\textbf{  Log-Likelihood:    } &   -2176.6   \\\\\n",
       "\\textbf{No. Observations:} &         768      & \\textbf{  AIC:               } &     4365.   \\\\\n",
       "\\textbf{Df Residuals:}     &         762      & \\textbf{  BIC:               } &     4393.   \\\\\n",
       "\\textbf{Df Model:}         &           5      & \\textbf{                     } &             \\\\\n",
       "\\textbf{Covariance Type:}  &    nonrobust     & \\textbf{                     } &             \\\\\n",
       "\\bottomrule\n",
       "\\end{tabular}\n",
       "\\begin{tabular}{lcccccc}\n",
       "                         & \\textbf{coef} & \\textbf{std err} & \\textbf{t} & \\textbf{P$> |$t$|$} & \\textbf{[0.025} & \\textbf{0.975]}  \\\\\n",
       "\\midrule\n",
       "\\textbf{const}           &     265.0244  &       17.570     &    15.084  &         0.000        &      230.534    &      299.515     \\\\\n",
       "\\textbf{RelCompactness}  &    -145.9437  &       11.144     &   -13.097  &         0.000        &     -167.819    &     -124.068     \\\\\n",
       "\\textbf{WallArea}        &      -0.1256  &        0.014     &    -8.978  &         0.000        &       -0.153    &       -0.098     \\\\\n",
       "\\textbf{RoofArea}        &      -0.5250  &        0.027     &   -19.649  &         0.000        &       -0.577    &       -0.473     \\\\\n",
       "\\textbf{Orientation}     &      -0.0233  &        0.133     &    -0.175  &         0.861        &       -0.285    &        0.239     \\\\\n",
       "\\textbf{GlazingAreaDist} &       0.5684  &        0.096     &     5.907  &         0.000        &        0.379    &        0.757     \\\\\n",
       "\\bottomrule\n",
       "\\end{tabular}\n",
       "\\begin{tabular}{lclc}\n",
       "\\textbf{Omnibus:}       & 17.608 & \\textbf{  Durbin-Watson:     } &    0.431  \\\\\n",
       "\\textbf{Prob(Omnibus):} &  0.000 & \\textbf{  Jarque-Bera (JB):  } &   29.805  \\\\\n",
       "\\textbf{Skew:}          &  0.151 & \\textbf{  Prob(JB):          } & 3.37e-07  \\\\\n",
       "\\textbf{Kurtosis:}      &  3.917 & \\textbf{  Cond. No.          } & 5.10e+04  \\\\\n",
       "\\bottomrule\n",
       "\\end{tabular}\n",
       "%\\caption{OLS Regression Results}\n",
       "\\end{center}\n",
       "\n",
       "Notes: \\newline\n",
       " [1] Standard Errors assume that the covariance matrix of the errors is correctly specified. \\newline\n",
       " [2] The condition number is large, 5.1e+04. This might indicate that there are \\newline\n",
       " strong multicollinearity or other numerical problems."
      ],
      "text/plain": [
       "<class 'statsmodels.iolib.summary.Summary'>\n",
       "\"\"\"\n",
       "                            OLS Regression Results                            \n",
       "==============================================================================\n",
       "Dep. Variable:            HeatingLoad   R-squared:                       0.833\n",
       "Model:                            OLS   Adj. R-squared:                  0.832\n",
       "Method:                 Least Squares   F-statistic:                     761.8\n",
       "Date:                Thu, 27 Feb 2025   Prob (F-statistic):          1.54e-293\n",
       "Time:                        23:19:53   Log-Likelihood:                -2176.6\n",
       "No. Observations:                 768   AIC:                             4365.\n",
       "Df Residuals:                     762   BIC:                             4393.\n",
       "Df Model:                           5                                         \n",
       "Covariance Type:            nonrobust                                         \n",
       "===================================================================================\n",
       "                      coef    std err          t      P>|t|      [0.025      0.975]\n",
       "-----------------------------------------------------------------------------------\n",
       "const             265.0244     17.570     15.084      0.000     230.534     299.515\n",
       "RelCompactness   -145.9437     11.144    -13.097      0.000    -167.819    -124.068\n",
       "WallArea           -0.1256      0.014     -8.978      0.000      -0.153      -0.098\n",
       "RoofArea           -0.5250      0.027    -19.649      0.000      -0.577      -0.473\n",
       "Orientation        -0.0233      0.133     -0.175      0.861      -0.285       0.239\n",
       "GlazingAreaDist     0.5684      0.096      5.907      0.000       0.379       0.757\n",
       "==============================================================================\n",
       "Omnibus:                       17.608   Durbin-Watson:                   0.431\n",
       "Prob(Omnibus):                  0.000   Jarque-Bera (JB):               29.805\n",
       "Skew:                           0.151   Prob(JB):                     3.37e-07\n",
       "Kurtosis:                       3.917   Cond. No.                     5.10e+04\n",
       "==============================================================================\n",
       "\n",
       "Notes:\n",
       "[1] Standard Errors assume that the covariance matrix of the errors is correctly specified.\n",
       "[2] The condition number is large, 5.1e+04. This might indicate that there are\n",
       "strong multicollinearity or other numerical problems.\n",
       "\"\"\""
      ]
     },
     "execution_count": 13,
     "metadata": {},
     "output_type": "execute_result"
    }
   ],
   "source": [
    "# fit the model\n",
    "model = sm.OLS(y, sm.add_constant(X1))\n",
    "regr = model.fit()\n",
    "regr.summary()"
   ]
  },
  {
   "cell_type": "code",
   "execution_count": 14,
   "metadata": {},
   "outputs": [
    {
     "data": {
      "text/html": [
       "<table class=\"simpletable\">\n",
       "<caption>OLS Regression Results</caption>\n",
       "<tr>\n",
       "  <th>Dep. Variable:</th>       <td>HeatingLoad</td>   <th>  R-squared:         </th> <td>   0.833</td> \n",
       "</tr>\n",
       "<tr>\n",
       "  <th>Model:</th>                   <td>OLS</td>       <th>  Adj. R-squared:    </th> <td>   0.832</td> \n",
       "</tr>\n",
       "<tr>\n",
       "  <th>Method:</th>             <td>Least Squares</td>  <th>  F-statistic:       </th> <td>   634.0</td> \n",
       "</tr>\n",
       "<tr>\n",
       "  <th>Date:</th>             <td>Thu, 27 Feb 2025</td> <th>  Prob (F-statistic):</th> <td>4.46e-292</td>\n",
       "</tr>\n",
       "<tr>\n",
       "  <th>Time:</th>                 <td>23:19:53</td>     <th>  Log-Likelihood:    </th> <td> -2176.6</td> \n",
       "</tr>\n",
       "<tr>\n",
       "  <th>No. Observations:</th>      <td>   768</td>      <th>  AIC:               </th> <td>   4367.</td> \n",
       "</tr>\n",
       "<tr>\n",
       "  <th>Df Residuals:</th>          <td>   761</td>      <th>  BIC:               </th> <td>   4400.</td> \n",
       "</tr>\n",
       "<tr>\n",
       "  <th>Df Model:</th>              <td>     6</td>      <th>                     </th>     <td> </td>    \n",
       "</tr>\n",
       "<tr>\n",
       "  <th>Covariance Type:</th>      <td>nonrobust</td>    <th>                     </th>     <td> </td>    \n",
       "</tr>\n",
       "</table>\n",
       "<table class=\"simpletable\">\n",
       "<tr>\n",
       "           <td></td>              <th>coef</th>     <th>std err</th>      <th>t</th>      <th>P>|t|</th>  <th>[0.025</th>    <th>0.975]</th>  \n",
       "</tr>\n",
       "<tr>\n",
       "  <th>const</th>               <td>  265.2682</td> <td>   17.909</td> <td>   14.812</td> <td> 0.000</td> <td>  230.111</td> <td>  300.426</td>\n",
       "</tr>\n",
       "<tr>\n",
       "  <th>RelCompactness</th>      <td> -145.9437</td> <td>   11.151</td> <td>  -13.088</td> <td> 0.000</td> <td> -167.834</td> <td> -124.054</td>\n",
       "</tr>\n",
       "<tr>\n",
       "  <th>WallArea</th>            <td>   -0.1264</td> <td>    0.018</td> <td>   -7.167</td> <td> 0.000</td> <td>   -0.161</td> <td>   -0.092</td>\n",
       "</tr>\n",
       "<tr>\n",
       "  <th>RoofArea</th>            <td>   -0.5250</td> <td>    0.027</td> <td>  -19.636</td> <td> 0.000</td> <td>   -0.577</td> <td>   -0.472</td>\n",
       "</tr>\n",
       "<tr>\n",
       "  <th>Orientation</th>         <td>   -0.0930</td> <td>    0.984</td> <td>   -0.094</td> <td> 0.925</td> <td>   -2.025</td> <td>    1.839</td>\n",
       "</tr>\n",
       "<tr>\n",
       "  <th>GlazingAreaDist</th>     <td>    0.5684</td> <td>    0.096</td> <td>    5.903</td> <td> 0.000</td> <td>    0.379</td> <td>    0.757</td>\n",
       "</tr>\n",
       "<tr>\n",
       "  <th>OrientationWallArea</th> <td>    0.0002</td> <td>    0.003</td> <td>    0.071</td> <td> 0.943</td> <td>   -0.006</td> <td>    0.006</td>\n",
       "</tr>\n",
       "</table>\n",
       "<table class=\"simpletable\">\n",
       "<tr>\n",
       "  <th>Omnibus:</th>       <td>17.606</td> <th>  Durbin-Watson:     </th> <td>   0.430</td>\n",
       "</tr>\n",
       "<tr>\n",
       "  <th>Prob(Omnibus):</th> <td> 0.000</td> <th>  Jarque-Bera (JB):  </th> <td>  29.805</td>\n",
       "</tr>\n",
       "<tr>\n",
       "  <th>Skew:</th>          <td> 0.150</td> <th>  Prob(JB):          </th> <td>3.37e-07</td>\n",
       "</tr>\n",
       "<tr>\n",
       "  <th>Kurtosis:</th>      <td> 3.917</td> <th>  Cond. No.          </th> <td>1.73e+05</td>\n",
       "</tr>\n",
       "</table><br/><br/>Notes:<br/>[1] Standard Errors assume that the covariance matrix of the errors is correctly specified.<br/>[2] The condition number is large, 1.73e+05. This might indicate that there are<br/>strong multicollinearity or other numerical problems."
      ],
      "text/latex": [
       "\\begin{center}\n",
       "\\begin{tabular}{lclc}\n",
       "\\toprule\n",
       "\\textbf{Dep. Variable:}      &   HeatingLoad    & \\textbf{  R-squared:         } &     0.833   \\\\\n",
       "\\textbf{Model:}              &       OLS        & \\textbf{  Adj. R-squared:    } &     0.832   \\\\\n",
       "\\textbf{Method:}             &  Least Squares   & \\textbf{  F-statistic:       } &     634.0   \\\\\n",
       "\\textbf{Date:}               & Thu, 27 Feb 2025 & \\textbf{  Prob (F-statistic):} & 4.46e-292   \\\\\n",
       "\\textbf{Time:}               &     23:19:53     & \\textbf{  Log-Likelihood:    } &   -2176.6   \\\\\n",
       "\\textbf{No. Observations:}   &         768      & \\textbf{  AIC:               } &     4367.   \\\\\n",
       "\\textbf{Df Residuals:}       &         761      & \\textbf{  BIC:               } &     4400.   \\\\\n",
       "\\textbf{Df Model:}           &           6      & \\textbf{                     } &             \\\\\n",
       "\\textbf{Covariance Type:}    &    nonrobust     & \\textbf{                     } &             \\\\\n",
       "\\bottomrule\n",
       "\\end{tabular}\n",
       "\\begin{tabular}{lcccccc}\n",
       "                             & \\textbf{coef} & \\textbf{std err} & \\textbf{t} & \\textbf{P$> |$t$|$} & \\textbf{[0.025} & \\textbf{0.975]}  \\\\\n",
       "\\midrule\n",
       "\\textbf{const}               &     265.2682  &       17.909     &    14.812  &         0.000        &      230.111    &      300.426     \\\\\n",
       "\\textbf{RelCompactness}      &    -145.9437  &       11.151     &   -13.088  &         0.000        &     -167.834    &     -124.054     \\\\\n",
       "\\textbf{WallArea}            &      -0.1264  &        0.018     &    -7.167  &         0.000        &       -0.161    &       -0.092     \\\\\n",
       "\\textbf{RoofArea}            &      -0.5250  &        0.027     &   -19.636  &         0.000        &       -0.577    &       -0.472     \\\\\n",
       "\\textbf{Orientation}         &      -0.0930  &        0.984     &    -0.094  &         0.925        &       -2.025    &        1.839     \\\\\n",
       "\\textbf{GlazingAreaDist}     &       0.5684  &        0.096     &     5.903  &         0.000        &        0.379    &        0.757     \\\\\n",
       "\\textbf{OrientationWallArea} &       0.0002  &        0.003     &     0.071  &         0.943        &       -0.006    &        0.006     \\\\\n",
       "\\bottomrule\n",
       "\\end{tabular}\n",
       "\\begin{tabular}{lclc}\n",
       "\\textbf{Omnibus:}       & 17.606 & \\textbf{  Durbin-Watson:     } &    0.430  \\\\\n",
       "\\textbf{Prob(Omnibus):} &  0.000 & \\textbf{  Jarque-Bera (JB):  } &   29.805  \\\\\n",
       "\\textbf{Skew:}          &  0.150 & \\textbf{  Prob(JB):          } & 3.37e-07  \\\\\n",
       "\\textbf{Kurtosis:}      &  3.917 & \\textbf{  Cond. No.          } & 1.73e+05  \\\\\n",
       "\\bottomrule\n",
       "\\end{tabular}\n",
       "%\\caption{OLS Regression Results}\n",
       "\\end{center}\n",
       "\n",
       "Notes: \\newline\n",
       " [1] Standard Errors assume that the covariance matrix of the errors is correctly specified. \\newline\n",
       " [2] The condition number is large, 1.73e+05. This might indicate that there are \\newline\n",
       " strong multicollinearity or other numerical problems."
      ],
      "text/plain": [
       "<class 'statsmodels.iolib.summary.Summary'>\n",
       "\"\"\"\n",
       "                            OLS Regression Results                            \n",
       "==============================================================================\n",
       "Dep. Variable:            HeatingLoad   R-squared:                       0.833\n",
       "Model:                            OLS   Adj. R-squared:                  0.832\n",
       "Method:                 Least Squares   F-statistic:                     634.0\n",
       "Date:                Thu, 27 Feb 2025   Prob (F-statistic):          4.46e-292\n",
       "Time:                        23:19:53   Log-Likelihood:                -2176.6\n",
       "No. Observations:                 768   AIC:                             4367.\n",
       "Df Residuals:                     761   BIC:                             4400.\n",
       "Df Model:                           6                                         \n",
       "Covariance Type:            nonrobust                                         \n",
       "=======================================================================================\n",
       "                          coef    std err          t      P>|t|      [0.025      0.975]\n",
       "---------------------------------------------------------------------------------------\n",
       "const                 265.2682     17.909     14.812      0.000     230.111     300.426\n",
       "RelCompactness       -145.9437     11.151    -13.088      0.000    -167.834    -124.054\n",
       "WallArea               -0.1264      0.018     -7.167      0.000      -0.161      -0.092\n",
       "RoofArea               -0.5250      0.027    -19.636      0.000      -0.577      -0.472\n",
       "Orientation            -0.0930      0.984     -0.094      0.925      -2.025       1.839\n",
       "GlazingAreaDist         0.5684      0.096      5.903      0.000       0.379       0.757\n",
       "OrientationWallArea     0.0002      0.003      0.071      0.943      -0.006       0.006\n",
       "==============================================================================\n",
       "Omnibus:                       17.606   Durbin-Watson:                   0.430\n",
       "Prob(Omnibus):                  0.000   Jarque-Bera (JB):               29.805\n",
       "Skew:                           0.150   Prob(JB):                     3.37e-07\n",
       "Kurtosis:                       3.917   Cond. No.                     1.73e+05\n",
       "==============================================================================\n",
       "\n",
       "Notes:\n",
       "[1] Standard Errors assume that the covariance matrix of the errors is correctly specified.\n",
       "[2] The condition number is large, 1.73e+05. This might indicate that there are\n",
       "strong multicollinearity or other numerical problems.\n",
       "\"\"\""
      ]
     },
     "execution_count": 14,
     "metadata": {},
     "output_type": "execute_result"
    }
   ],
   "source": [
    "# create interaction terms with Orientation and WallArea\n",
    "heat['OrientationWallArea'] = heat['Orientation'] * heat['WallArea']\n",
    "\n",
    "# fit the model\n",
    "model = sm.OLS(y, sm.add_constant(heat[['RelCompactness', 'WallArea', 'RoofArea', 'Orientation', 'GlazingAreaDist', 'OrientationWallArea']]))\n",
    "regr = model.fit()\n",
    "regr.summary()"
   ]
  },
  {
   "cell_type": "code",
   "execution_count": 15,
   "metadata": {},
   "outputs": [],
   "source": [
    "#print(heat.columns)\n",
    "heat_df=heat[['RelCompactness','SurfaceArea','WallArea','OverallHgt','RoofArea','Orientation','GlazingArea','GlazingAreaDist']]"
   ]
  },
  {
   "cell_type": "code",
   "execution_count": 16,
   "metadata": {
    "collapsed": false
   },
   "outputs": [],
   "source": [
    "X=heat_df\n",
    "y=heat['HeatingLoad']"
   ]
  },
  {
   "cell_type": "code",
   "execution_count": null,
   "metadata": {},
   "outputs": [],
   "source": []
  },
  {
   "cell_type": "code",
   "execution_count": 17,
   "metadata": {
    "collapsed": true
   },
   "outputs": [],
   "source": [
    "# create a function called processSubset to fit the models and return information about\n",
    "# the model as well as the RMSE\n",
    "def processSubset(feature_set):\n",
    "    # Fit model on feature_set and calculate RSS\n",
    "    #X=sm.add_constant(X[list(feature_set)])\n",
    "    model = sm.OLS(y,sm.add_constant(X[list(feature_set)]))\n",
    "    regr = model.fit()\n",
    "    RMSE = np.sqrt(((regr.predict(sm.add_constant(X[list(feature_set)])) - y) ** 2).mean())\n",
    "    return {\"model\":regr, \"RMSE\":RMSE}"
   ]
  },
  {
   "cell_type": "code",
   "execution_count": 18,
   "metadata": {
    "collapsed": false
   },
   "outputs": [],
   "source": [
    "def getBest(k):\n",
    "    # start tracking the time \n",
    "    tic = time.time()\n",
    "    # create an array to put the results\n",
    "    results = []\n",
    "    \n",
    "    # do all combinations of predictors \n",
    "    for combo in itertools.combinations(X.columns, k):\n",
    "        results.append(processSubset(combo))\n",
    "    \n",
    "    # Wrap everything up in a nice dataframe\n",
    "    models = pd.DataFrame(results)\n",
    "    \n",
    "    # Choose the model with the smallest RMSE\n",
    "    best_model = models.loc[models['RMSE'].argmin()]\n",
    "    \n",
    "    # stop tracking the time\n",
    "    toc = time.time()\n",
    "    print(\"Processed\", models.shape[0], \"models on\", k, \"predictors in\", (toc-tic), \"seconds.\")\n",
    "    \n",
    "    # Return the best model, along with some other useful information about the model\n",
    "    return best_model"
   ]
  },
  {
   "cell_type": "code",
   "execution_count": 19,
   "metadata": {
    "collapsed": false
   },
   "outputs": [
    {
     "name": "stdout",
     "output_type": "stream",
     "text": [
      "Processed 1 models on 0 predictors in 0.0030024051666259766 seconds.\n",
      "Processed 8 models on 1 predictors in 0.015014171600341797 seconds.\n",
      "Processed 28 models on 2 predictors in 0.052046775817871094 seconds.\n",
      "Processed 56 models on 3 predictors in 0.11009740829467773 seconds.\n",
      "Processed 70 models on 4 predictors in 0.15813922882080078 seconds.\n",
      "Processed 56 models on 5 predictors in 0.12711215019226074 seconds.\n",
      "Processed 28 models on 6 predictors in 0.07006120681762695 seconds.\n",
      "Processed 8 models on 7 predictors in 0.021019458770751953 seconds.\n",
      "Processed 1 models on 8 predictors in 0.004002571105957031 seconds.\n",
      "Total elapsed time: 0.5675027370452881 seconds.\n"
     ]
    }
   ],
   "source": [
    "# Could take quite awhile to complete...\n",
    "\n",
    "models_best = pd.DataFrame(columns=[\"RMSE\", \"model\"])\n",
    "\n",
    "tic = time.time()\n",
    "for i in range(0,9):\n",
    "    models_best.loc[i] = getBest(i)\n",
    "\n",
    "toc = time.time()\n",
    "print(\"Total elapsed time:\", (toc-tic), \"seconds.\")"
   ]
  },
  {
   "cell_type": "code",
   "execution_count": 20,
   "metadata": {
    "collapsed": false
   },
   "outputs": [
    {
     "data": {
      "text/html": [
       "<div>\n",
       "<style scoped>\n",
       "    .dataframe tbody tr th:only-of-type {\n",
       "        vertical-align: middle;\n",
       "    }\n",
       "\n",
       "    .dataframe tbody tr th {\n",
       "        vertical-align: top;\n",
       "    }\n",
       "\n",
       "    .dataframe thead th {\n",
       "        text-align: right;\n",
       "    }\n",
       "</style>\n",
       "<table border=\"1\" class=\"dataframe\">\n",
       "  <thead>\n",
       "    <tr style=\"text-align: right;\">\n",
       "      <th></th>\n",
       "      <th>RMSE</th>\n",
       "      <th>model</th>\n",
       "    </tr>\n",
       "  </thead>\n",
       "  <tbody>\n",
       "    <tr>\n",
       "      <th>0</th>\n",
       "      <td>10.083624</td>\n",
       "      <td>&lt;statsmodels.regression.linear_model.Regressio...</td>\n",
       "    </tr>\n",
       "    <tr>\n",
       "      <th>1</th>\n",
       "      <td>4.608923</td>\n",
       "      <td>&lt;statsmodels.regression.linear_model.Regressio...</td>\n",
       "    </tr>\n",
       "    <tr>\n",
       "      <th>2</th>\n",
       "      <td>3.720009</td>\n",
       "      <td>&lt;statsmodels.regression.linear_model.Regressio...</td>\n",
       "    </tr>\n",
       "    <tr>\n",
       "      <th>3</th>\n",
       "      <td>3.027299</td>\n",
       "      <td>&lt;statsmodels.regression.linear_model.Regressio...</td>\n",
       "    </tr>\n",
       "    <tr>\n",
       "      <th>4</th>\n",
       "      <td>2.94357</td>\n",
       "      <td>&lt;statsmodels.regression.linear_model.Regressio...</td>\n",
       "    </tr>\n",
       "    <tr>\n",
       "      <th>5</th>\n",
       "      <td>2.92735</td>\n",
       "      <td>&lt;statsmodels.regression.linear_model.Regressio...</td>\n",
       "    </tr>\n",
       "    <tr>\n",
       "      <th>6</th>\n",
       "      <td>2.919111</td>\n",
       "      <td>&lt;statsmodels.regression.linear_model.Regressio...</td>\n",
       "    </tr>\n",
       "    <tr>\n",
       "      <th>7</th>\n",
       "      <td>2.918994</td>\n",
       "      <td>&lt;statsmodels.regression.linear_model.Regressio...</td>\n",
       "    </tr>\n",
       "    <tr>\n",
       "      <th>8</th>\n",
       "      <td>2.918994</td>\n",
       "      <td>&lt;statsmodels.regression.linear_model.Regressio...</td>\n",
       "    </tr>\n",
       "  </tbody>\n",
       "</table>\n",
       "</div>"
      ],
      "text/plain": [
       "        RMSE                                              model\n",
       "0  10.083624  <statsmodels.regression.linear_model.Regressio...\n",
       "1   4.608923  <statsmodels.regression.linear_model.Regressio...\n",
       "2   3.720009  <statsmodels.regression.linear_model.Regressio...\n",
       "3   3.027299  <statsmodels.regression.linear_model.Regressio...\n",
       "4    2.94357  <statsmodels.regression.linear_model.Regressio...\n",
       "5    2.92735  <statsmodels.regression.linear_model.Regressio...\n",
       "6   2.919111  <statsmodels.regression.linear_model.Regressio...\n",
       "7   2.918994  <statsmodels.regression.linear_model.Regressio...\n",
       "8   2.918994  <statsmodels.regression.linear_model.Regressio..."
      ]
     },
     "execution_count": 20,
     "metadata": {},
     "output_type": "execute_result"
    }
   ],
   "source": [
    "models_best"
   ]
  },
  {
   "cell_type": "code",
   "execution_count": 21,
   "metadata": {
    "collapsed": false
   },
   "outputs": [
    {
     "name": "stdout",
     "output_type": "stream",
     "text": [
      "                            OLS Regression Results                            \n",
      "==============================================================================\n",
      "Dep. Variable:            HeatingLoad   R-squared:                       0.864\n",
      "Model:                            OLS   Adj. R-squared:                  0.864\n",
      "Method:                 Least Squares   F-statistic:                     2428.\n",
      "Date:                Thu, 27 Feb 2025   Prob (F-statistic):               0.00\n",
      "Time:                        23:19:54   Log-Likelihood:                -2098.7\n",
      "No. Observations:                 768   AIC:                             4203.\n",
      "Df Residuals:                     765   BIC:                             4217.\n",
      "Df Model:                           2                                         \n",
      "Covariance Type:            nonrobust                                         \n",
      "===============================================================================\n",
      "                  coef    std err          t      P>|t|      [0.025      0.975]\n",
      "-------------------------------------------------------------------------------\n",
      "const          -9.3890      0.487    -19.288      0.000     -10.345      -8.433\n",
      "OverallHgt      5.1250      0.077     66.683      0.000       4.974       5.276\n",
      "GlazingArea    20.4379      1.010     20.231      0.000      18.455      22.421\n",
      "==============================================================================\n",
      "Omnibus:                       11.390   Durbin-Watson:                   0.456\n",
      "Prob(Omnibus):                  0.003   Jarque-Bera (JB):               11.570\n",
      "Skew:                           0.300   Prob(JB):                      0.00307\n",
      "Kurtosis:                       3.043   Cond. No.                         43.6\n",
      "==============================================================================\n",
      "\n",
      "Notes:\n",
      "[1] Standard Errors assume that the covariance matrix of the errors is correctly specified.\n"
     ]
    }
   ],
   "source": [
    "# here is the best model with 2 predictors is counted as a predictor\n",
    "print(models_best.loc[2, \"model\"].summary())"
   ]
  },
  {
   "cell_type": "code",
   "execution_count": 22,
   "metadata": {
    "collapsed": false
   },
   "outputs": [
    {
     "name": "stdout",
     "output_type": "stream",
     "text": [
      "Processed 1 models on 8 predictors in 0.004004716873168945 seconds.\n",
      "                            OLS Regression Results                            \n",
      "==============================================================================\n",
      "Dep. Variable:            HeatingLoad   R-squared:                       0.916\n",
      "Model:                            OLS   Adj. R-squared:                  0.915\n",
      "Method:                 Least Squares   F-statistic:                     1187.\n",
      "Date:                Thu, 27 Feb 2025   Prob (F-statistic):               0.00\n",
      "Time:                        23:19:54   Log-Likelihood:                -1912.5\n",
      "No. Observations:                 768   AIC:                             3841.\n",
      "Df Residuals:                     760   BIC:                             3878.\n",
      "Df Model:                           7                                         \n",
      "Covariance Type:            nonrobust                                         \n",
      "===================================================================================\n",
      "                      coef    std err          t      P>|t|      [0.025      0.975]\n",
      "-----------------------------------------------------------------------------------\n",
      "const              84.0145     19.034      4.414      0.000      46.650     121.379\n",
      "RelCompactness    -64.7740     10.289     -6.295      0.000     -84.973     -44.575\n",
      "SurfaceArea        -0.0626      0.013     -4.670      0.000      -0.089      -0.036\n",
      "WallArea            0.0361      0.004      9.386      0.000       0.029       0.044\n",
      "OverallHgt          4.1699      0.338     12.337      0.000       3.506       4.833\n",
      "RoofArea           -0.0494      0.008     -6.569      0.000      -0.064      -0.035\n",
      "Orientation        -0.0233      0.095     -0.246      0.805      -0.209       0.163\n",
      "GlazingArea        19.9327      0.814     24.488      0.000      18.335      21.531\n",
      "GlazingAreaDist     0.2038      0.070      2.914      0.004       0.067       0.341\n",
      "==============================================================================\n",
      "Omnibus:                       18.648   Durbin-Watson:                   0.654\n",
      "Prob(Omnibus):                  0.000   Jarque-Bera (JB):               37.708\n",
      "Skew:                           0.044   Prob(JB):                     6.48e-09\n",
      "Kurtosis:                       4.082   Cond. No.                     1.09e+16\n",
      "==============================================================================\n",
      "\n",
      "Notes:\n",
      "[1] Standard Errors assume that the covariance matrix of the errors is correctly specified.\n",
      "[2] The smallest eigenvalue is 3.8e-24. This might indicate that there are\n",
      "strong multicollinearity problems or that the design matrix is singular.\n"
     ]
    }
   ],
   "source": [
    "# Show the best 8-variable model \n",
    "print(getBest(8)[\"model\"].summary())"
   ]
  },
  {
   "cell_type": "code",
   "execution_count": 23,
   "metadata": {
    "collapsed": false
   },
   "outputs": [
    {
     "data": {
      "text/plain": [
       "np.float64(0.9157216505746987)"
      ]
     },
     "execution_count": 23,
     "metadata": {},
     "output_type": "execute_result"
    }
   ],
   "source": [
    "models_best.loc[5, \"model\"].rsquared"
   ]
  },
  {
   "cell_type": "code",
   "execution_count": 24,
   "metadata": {
    "collapsed": false
   },
   "outputs": [
    {
     "name": "stderr",
     "output_type": "stream",
     "text": [
      "C:\\Users\\ncgre\\AppData\\Local\\Temp\\ipykernel_5188\\3287597919.py:2: FutureWarning: Series.__getitem__ treating keys as positions is deprecated. In a future version, integer keys will always be treated as labels (consistent with DataFrame behavior). To access a value by position, use `ser.iloc[pos]`\n",
      "  models_best.apply(lambda row: row[1].rsquared, axis=1)\n"
     ]
    },
    {
     "data": {
      "text/plain": [
       "0   -2.220446e-16\n",
       "1    7.910869e-01\n",
       "2    8.639011e-01\n",
       "3    9.098684e-01\n",
       "4    9.147851e-01\n",
       "5    9.157217e-01\n",
       "6    9.161954e-01\n",
       "7    9.162021e-01\n",
       "8    9.162021e-01\n",
       "dtype: float64"
      ]
     },
     "execution_count": 24,
     "metadata": {},
     "output_type": "execute_result"
    }
   ],
   "source": [
    "# Gets the second element from each row ('model') and pulls out its rsquared attribute\n",
    "models_best.apply(lambda row: row[1].rsquared, axis=1)"
   ]
  },
  {
   "cell_type": "markdown",
   "metadata": {},
   "source": [
    "As expected, the $r^2$ statistic increases monotonically as more\n",
    "variables are included.  This happens even if the added predictor has little value; that's \n",
    "part of the reason that we introduced $r^2_{adj}$.\n",
    "\n",
    "Plotting RSS, adjusted $r^2$, AIC, and BIC for all of the models at once will\n",
    "help us decide which model to select. "
   ]
  },
  {
   "cell_type": "markdown",
   "metadata": {},
   "source": [
    "Akaike's Information Criterion (AIC) and Bayesian Information Criterion (BIC) are two other metrics for penalizing extra terms in a model.  While $r^2_{adj}$ works well for regression,\n",
    "AIC and BIC are more general for a larger class of models.  For both AIC and BIC we want the smallest values we can get. "
   ]
  },
  {
   "cell_type": "code",
   "execution_count": 25,
   "metadata": {
    "collapsed": false
   },
   "outputs": [
    {
     "name": "stderr",
     "output_type": "stream",
     "text": [
      "C:\\Users\\ncgre\\AppData\\Local\\Temp\\ipykernel_5188\\1196503365.py:16: FutureWarning: Series.__getitem__ treating keys as positions is deprecated. In a future version, integer keys will always be treated as labels (consistent with DataFrame behavior). To access a value by position, use `ser.iloc[pos]`\n",
      "  rsquared_adj = models_best.apply(lambda row: row[1].rsquared_adj, axis=1)\n",
      "C:\\Users\\ncgre\\AppData\\Local\\Temp\\ipykernel_5188\\1196503365.py:25: FutureWarning: Series.__getitem__ treating keys as positions is deprecated. In a future version, integer keys will always be treated as labels (consistent with DataFrame behavior). To access a value by position, use `ser.iloc[pos]`\n",
      "  aic = models_best.apply(lambda row: row[1].aic, axis=1)\n",
      "C:\\Users\\ncgre\\AppData\\Local\\Temp\\ipykernel_5188\\1196503365.py:33: FutureWarning: Series.__getitem__ treating keys as positions is deprecated. In a future version, integer keys will always be treated as labels (consistent with DataFrame behavior). To access a value by position, use `ser.iloc[pos]`\n",
      "  bic = models_best.apply(lambda row: row[1].bic, axis=1)\n"
     ]
    },
    {
     "data": {
      "text/plain": [
       "Text(0, 0.5, 'BIC')"
      ]
     },
     "execution_count": 25,
     "metadata": {},
     "output_type": "execute_result"
    },
    {
     "data": {
      "image/png": "[encoded data removed]",
      "text/plain": [
       "<Figure size 2000x1000 with 4 Axes>"
      ]
     },
     "metadata": {},
     "output_type": "display_data"
    }
   ],
   "source": [
    "plt.figure(figsize=(20,10))\n",
    "plt.rcParams.update({'font.size': 18, 'lines.markersize': 10})\n",
    "\n",
    "# Set up a 2x2 grid so we can look at 4 plots at once\n",
    "plt.subplot(2, 2, 1)\n",
    "\n",
    "# We will now plot a red dot to indicate the model with the largest adjusted R^2 statistic.\n",
    "# The argmax() function can be used to identify the location of the maximum point of a vector\n",
    "plt.plot(models_best[\"RMSE\"])\n",
    "plt.xlabel('# Predictors')\n",
    "plt.ylabel('RMSE')\n",
    "\n",
    "# We will now plot a red dot to indicate the model with the largest adjusted R^2 statistic.\n",
    "# The argmax() function can be used to identify the location of the maximum point of a vector\n",
    "\n",
    "rsquared_adj = models_best.apply(lambda row: row[1].rsquared_adj, axis=1)\n",
    "\n",
    "plt.subplot(2, 2, 2)\n",
    "plt.plot(rsquared_adj)\n",
    "plt.plot(rsquared_adj.argmax()+1, rsquared_adj.max(), \"or\")\n",
    "plt.xlabel('# Predictors')\n",
    "plt.ylabel('adjusted rsquared')\n",
    "\n",
    "# We'll do the same for AIC and BIC, this time looking for the models with the SMALLEST statistic\n",
    "aic = models_best.apply(lambda row: row[1].aic, axis=1)\n",
    "\n",
    "plt.subplot(2, 2, 3)\n",
    "plt.plot(aic)\n",
    "plt.plot(aic.argmin()+1, aic.min(), \"or\")\n",
    "plt.xlabel('# Predictors')\n",
    "plt.ylabel('AIC')\n",
    "\n",
    "bic = models_best.apply(lambda row: row[1].bic, axis=1)\n",
    "\n",
    "plt.subplot(2, 2, 4)\n",
    "plt.plot(bic)\n",
    "plt.plot(bic.argmin()+1, bic.min(), \"or\")\n",
    "plt.xlabel('# Predictors')\n",
    "plt.ylabel('BIC')"
   ]
  },
  {
   "cell_type": "code",
   "execution_count": 32,
   "metadata": {},
   "outputs": [
    {
     "name": "stdout",
     "output_type": "stream",
     "text": [
      "Average RMSE: 2.930960312868301\n"
     ]
    }
   ],
   "source": [
    "# Part D\n",
    "\n",
    "from sklearn.model_selection import KFold, cross_val_score\n",
    "from sklearn.linear_model import LinearRegression\n",
    "from sklearn.metrics import mean_squared_error\n",
    "import numpy as np\n",
    "import pandas as pd\n",
    "\n",
    "# Define predictors and target variable\n",
    "predictors = ['RelCompactness', 'SurfaceArea', 'WallArea', 'RoofArea', 'OverallHgt', 'Orientation', 'GlazingArea', 'GlazingAreaDist']\n",
    "goal = ['HeatingLoad']\n",
    "\n",
    "X = heat[predictors]\n",
    "y = heat[goal]\n",
    "\n",
    "# Start 8-fold cross-validation\n",
    "kf = KFold(n_splits=8, shuffle=True, random_state=0)\n",
    "model = LinearRegression()\n",
    "\n",
    "# Cross-Validation \n",
    "rmse_scores = np.sqrt(-cross_val_score(model, X, y, cv=kf, scoring='neg_mean_squared_error'))\n",
    "\n",
    "# Find the average RMSE\n",
    "average_rmse = np.mean(rmse_scores)\n",
    "\n",
    "# Print the average RMSE\n",
    "print(f'Average RMSE: {average_rmse}')"
   ]
  },
  {
   "cell_type": "markdown",
   "metadata": {},
   "source": [
    "The RMSE shows the average deviation of our model's prediction from the actual values. This means that on average the predictions were about 2.93 units off from the true values."
   ]
  }
 ],
 "metadata": {
  "anaconda-cloud": {},
  "kernelspec": {
   "display_name": "Python 3",
   "language": "python",
   "name": "python3"
  },
  "language_info": {
   "codemirror_mode": {
    "name": "ipython",
    "version": 3
   },
   "file_extension": ".py",
   "mimetype": "text/x-python",
   "name": "python",
   "nbconvert_exporter": "python",
   "pygments_lexer": "ipython3",
   "version": "3.11.9"
  }
 },
 "nbformat": 4,
 "nbformat_minor": 0
}
