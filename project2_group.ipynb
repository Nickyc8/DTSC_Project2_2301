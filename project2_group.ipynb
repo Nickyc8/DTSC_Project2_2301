{
 "cells": [
  {
   "cell_type": "code",
   "execution_count": 3,
   "metadata": {},
   "outputs": [],
   "source": [
    "import pandas as pd\n",
    "import numpy as np\n",
    "import matplotlib.pyplot as plt\n",
    "import seaborn as sns"
   ]
  },
  {
   "cell_type": "code",
   "execution_count": 4,
   "metadata": {},
   "outputs": [
    {
     "data": {
      "application/vnd.microsoft.datawrangler.viewer.v0+json": {
       "columns": [
        {
         "name": "index",
         "rawType": "int64",
         "type": "integer"
        },
        {
         "name": "RelCompactness",
         "rawType": "float64",
         "type": "float"
        },
        {
         "name": "SurfaceArea",
         "rawType": "float64",
         "type": "float"
        },
        {
         "name": "WallArea",
         "rawType": "float64",
         "type": "float"
        },
        {
         "name": "RoofArea",
         "rawType": "float64",
         "type": "float"
        },
        {
         "name": "OverallHgt",
         "rawType": "float64",
         "type": "float"
        },
        {
         "name": "Orientation",
         "rawType": "float64",
         "type": "float"
        },
        {
         "name": "GlazingArea",
         "rawType": "float64",
         "type": "float"
        },
        {
         "name": "GlazingAreaDist",
         "rawType": "float64",
         "type": "float"
        },
        {
         "name": "HeatingLoad",
         "rawType": "float64",
         "type": "float"
        }
       ],
       "conversionMethod": "pd.DataFrame",
       "ref": "a5d01de5-3b50-49fa-8fa9-b41baef8020f",
       "rows": [
        [
         "0",
         "0.98",
         "514.5",
         "294.0",
         "110.25",
         "7.0",
         "2.0",
         "0.0",
         "0.0",
         "15.55"
        ],
        [
         "1",
         "0.98",
         "514.5",
         "294.0",
         "110.25",
         "7.0",
         "3.0",
         "0.0",
         "0.0",
         "15.55"
        ],
        [
         "2",
         "0.98",
         "514.5",
         "294.0",
         "110.25",
         "7.0",
         "4.0",
         "0.0",
         "0.0",
         "15.55"
        ],
        [
         "3",
         "0.98",
         "514.5",
         "294.0",
         "110.25",
         "7.0",
         "5.0",
         "0.0",
         "0.0",
         "15.55"
        ],
        [
         "4",
         "0.9",
         "563.5",
         "318.5",
         "122.5",
         "7.0",
         "2.0",
         "0.0",
         "0.0",
         "20.84"
        ]
       ],
       "shape": {
        "columns": 9,
        "rows": 5
       }
      },
      "text/html": [
       "<div>\n",
       "<style scoped>\n",
       "    .dataframe tbody tr th:only-of-type {\n",
       "        vertical-align: middle;\n",
       "    }\n",
       "\n",
       "    .dataframe tbody tr th {\n",
       "        vertical-align: top;\n",
       "    }\n",
       "\n",
       "    .dataframe thead th {\n",
       "        text-align: right;\n",
       "    }\n",
       "</style>\n",
       "<table border=\"1\" class=\"dataframe\">\n",
       "  <thead>\n",
       "    <tr style=\"text-align: right;\">\n",
       "      <th></th>\n",
       "      <th>RelCompactness</th>\n",
       "      <th>SurfaceArea</th>\n",
       "      <th>WallArea</th>\n",
       "      <th>RoofArea</th>\n",
       "      <th>OverallHgt</th>\n",
       "      <th>Orientation</th>\n",
       "      <th>GlazingArea</th>\n",
       "      <th>GlazingAreaDist</th>\n",
       "      <th>HeatingLoad</th>\n",
       "    </tr>\n",
       "  </thead>\n",
       "  <tbody>\n",
       "    <tr>\n",
       "      <th>0</th>\n",
       "      <td>0.98</td>\n",
       "      <td>514.5</td>\n",
       "      <td>294.0</td>\n",
       "      <td>110.25</td>\n",
       "      <td>7.0</td>\n",
       "      <td>2.0</td>\n",
       "      <td>0.0</td>\n",
       "      <td>0.0</td>\n",
       "      <td>15.55</td>\n",
       "    </tr>\n",
       "    <tr>\n",
       "      <th>1</th>\n",
       "      <td>0.98</td>\n",
       "      <td>514.5</td>\n",
       "      <td>294.0</td>\n",
       "      <td>110.25</td>\n",
       "      <td>7.0</td>\n",
       "      <td>3.0</td>\n",
       "      <td>0.0</td>\n",
       "      <td>0.0</td>\n",
       "      <td>15.55</td>\n",
       "    </tr>\n",
       "    <tr>\n",
       "      <th>2</th>\n",
       "      <td>0.98</td>\n",
       "      <td>514.5</td>\n",
       "      <td>294.0</td>\n",
       "      <td>110.25</td>\n",
       "      <td>7.0</td>\n",
       "      <td>4.0</td>\n",
       "      <td>0.0</td>\n",
       "      <td>0.0</td>\n",
       "      <td>15.55</td>\n",
       "    </tr>\n",
       "    <tr>\n",
       "      <th>3</th>\n",
       "      <td>0.98</td>\n",
       "      <td>514.5</td>\n",
       "      <td>294.0</td>\n",
       "      <td>110.25</td>\n",
       "      <td>7.0</td>\n",
       "      <td>5.0</td>\n",
       "      <td>0.0</td>\n",
       "      <td>0.0</td>\n",
       "      <td>15.55</td>\n",
       "    </tr>\n",
       "    <tr>\n",
       "      <th>4</th>\n",
       "      <td>0.90</td>\n",
       "      <td>563.5</td>\n",
       "      <td>318.5</td>\n",
       "      <td>122.50</td>\n",
       "      <td>7.0</td>\n",
       "      <td>2.0</td>\n",
       "      <td>0.0</td>\n",
       "      <td>0.0</td>\n",
       "      <td>20.84</td>\n",
       "    </tr>\n",
       "  </tbody>\n",
       "</table>\n",
       "</div>"
      ],
      "text/plain": [
       "   RelCompactness  SurfaceArea  WallArea  RoofArea  OverallHgt  Orientation  \\\n",
       "0            0.98        514.5     294.0    110.25         7.0          2.0   \n",
       "1            0.98        514.5     294.0    110.25         7.0          3.0   \n",
       "2            0.98        514.5     294.0    110.25         7.0          4.0   \n",
       "3            0.98        514.5     294.0    110.25         7.0          5.0   \n",
       "4            0.90        563.5     318.5    122.50         7.0          2.0   \n",
       "\n",
       "   GlazingArea  GlazingAreaDist  HeatingLoad  \n",
       "0          0.0              0.0        15.55  \n",
       "1          0.0              0.0        15.55  \n",
       "2          0.0              0.0        15.55  \n",
       "3          0.0              0.0        15.55  \n",
       "4          0.0              0.0        20.84  "
      ]
     },
     "execution_count": 4,
     "metadata": {},
     "output_type": "execute_result"
    }
   ],
   "source": [
    "df = pd.read_csv('https://webpages.charlotte.edu/mschuck1/classes/DTSC2301/Data/DTSC2301_Project2.csv')\n",
    "df.head()"
   ]
  },
  {
   "cell_type": "code",
   "execution_count": 5,
   "metadata": {},
   "outputs": [
    {
     "name": "stdout",
     "output_type": "stream",
     "text": [
      "<class 'pandas.core.frame.DataFrame'>\n",
      "RangeIndex: 1296 entries, 0 to 1295\n",
      "Data columns (total 9 columns):\n",
      " #   Column           Non-Null Count  Dtype  \n",
      "---  ------           --------------  -----  \n",
      " 0   RelCompactness   768 non-null    float64\n",
      " 1   SurfaceArea      768 non-null    float64\n",
      " 2   WallArea         768 non-null    float64\n",
      " 3   RoofArea         768 non-null    float64\n",
      " 4   OverallHgt       768 non-null    float64\n",
      " 5   Orientation      768 non-null    float64\n",
      " 6   GlazingArea      768 non-null    float64\n",
      " 7   GlazingAreaDist  768 non-null    float64\n",
      " 8   HeatingLoad      768 non-null    float64\n",
      "dtypes: float64(9)\n",
      "memory usage: 91.3 KB\n"
     ]
    }
   ],
   "source": [
    "df.info()"
   ]
  },
  {
   "cell_type": "code",
   "execution_count": 6,
   "metadata": {},
   "outputs": [
    {
     "data": {
      "application/vnd.microsoft.datawrangler.viewer.v0+json": {
       "columns": [
        {
         "name": "index",
         "rawType": "object",
         "type": "string"
        },
        {
         "name": "RelCompactness",
         "rawType": "float64",
         "type": "float"
        },
        {
         "name": "SurfaceArea",
         "rawType": "float64",
         "type": "float"
        },
        {
         "name": "WallArea",
         "rawType": "float64",
         "type": "float"
        },
        {
         "name": "RoofArea",
         "rawType": "float64",
         "type": "float"
        },
        {
         "name": "OverallHgt",
         "rawType": "float64",
         "type": "float"
        },
        {
         "name": "Orientation",
         "rawType": "float64",
         "type": "float"
        },
        {
         "name": "GlazingArea",
         "rawType": "float64",
         "type": "float"
        },
        {
         "name": "GlazingAreaDist",
         "rawType": "float64",
         "type": "float"
        },
        {
         "name": "HeatingLoad",
         "rawType": "float64",
         "type": "float"
        }
       ],
       "conversionMethod": "pd.DataFrame",
       "ref": "86d1d99d-dd44-407a-be9b-da241c1d40dd",
       "rows": [
        [
         "count",
         "768.0",
         "768.0",
         "768.0",
         "768.0",
         "768.0",
         "768.0",
         "768.0",
         "768.0",
         "768.0"
        ],
        [
         "mean",
         "0.7641666666666667",
         "671.7083333333334",
         "318.5",
         "176.60416666666666",
         "5.25",
         "3.5",
         "0.234375",
         "2.8125",
         "22.307200520833334"
        ],
        [
         "std",
         "0.10577747587475206",
         "88.08611605586826",
         "43.6264814379949",
         "45.165950222920344",
         "1.7511404367453496",
         "1.1187625870603635",
         "0.13322056291470877",
         "1.5509596642247505",
         "10.090195732006162"
        ],
        [
         "min",
         "0.62",
         "514.5",
         "245.0",
         "110.25",
         "3.5",
         "2.0",
         "0.0",
         "0.0",
         "6.01"
        ],
        [
         "25%",
         "0.6825",
         "606.375",
         "294.0",
         "140.875",
         "3.5",
         "2.75",
         "0.1",
         "1.75",
         "12.9925"
        ],
        [
         "50%",
         "0.75",
         "673.75",
         "318.5",
         "183.75",
         "5.25",
         "3.5",
         "0.25",
         "3.0",
         "18.95"
        ],
        [
         "75%",
         "0.83",
         "741.125",
         "343.0",
         "220.5",
         "7.0",
         "4.25",
         "0.4",
         "4.0",
         "31.6675"
        ],
        [
         "max",
         "0.98",
         "808.5",
         "416.5",
         "220.5",
         "7.0",
         "5.0",
         "0.4",
         "5.0",
         "43.1"
        ]
       ],
       "shape": {
        "columns": 9,
        "rows": 8
       }
      },
      "text/html": [
       "<div>\n",
       "<style scoped>\n",
       "    .dataframe tbody tr th:only-of-type {\n",
       "        vertical-align: middle;\n",
       "    }\n",
       "\n",
       "    .dataframe tbody tr th {\n",
       "        vertical-align: top;\n",
       "    }\n",
       "\n",
       "    .dataframe thead th {\n",
       "        text-align: right;\n",
       "    }\n",
       "</style>\n",
       "<table border=\"1\" class=\"dataframe\">\n",
       "  <thead>\n",
       "    <tr style=\"text-align: right;\">\n",
       "      <th></th>\n",
       "      <th>RelCompactness</th>\n",
       "      <th>SurfaceArea</th>\n",
       "      <th>WallArea</th>\n",
       "      <th>RoofArea</th>\n",
       "      <th>OverallHgt</th>\n",
       "      <th>Orientation</th>\n",
       "      <th>GlazingArea</th>\n",
       "      <th>GlazingAreaDist</th>\n",
       "      <th>HeatingLoad</th>\n",
       "    </tr>\n",
       "  </thead>\n",
       "  <tbody>\n",
       "    <tr>\n",
       "      <th>count</th>\n",
       "      <td>768.000000</td>\n",
       "      <td>768.000000</td>\n",
       "      <td>768.000000</td>\n",
       "      <td>768.000000</td>\n",
       "      <td>768.00000</td>\n",
       "      <td>768.000000</td>\n",
       "      <td>768.000000</td>\n",
       "      <td>768.00000</td>\n",
       "      <td>768.000000</td>\n",
       "    </tr>\n",
       "    <tr>\n",
       "      <th>mean</th>\n",
       "      <td>0.764167</td>\n",
       "      <td>671.708333</td>\n",
       "      <td>318.500000</td>\n",
       "      <td>176.604167</td>\n",
       "      <td>5.25000</td>\n",
       "      <td>3.500000</td>\n",
       "      <td>0.234375</td>\n",
       "      <td>2.81250</td>\n",
       "      <td>22.307201</td>\n",
       "    </tr>\n",
       "    <tr>\n",
       "      <th>std</th>\n",
       "      <td>0.105777</td>\n",
       "      <td>88.086116</td>\n",
       "      <td>43.626481</td>\n",
       "      <td>45.165950</td>\n",
       "      <td>1.75114</td>\n",
       "      <td>1.118763</td>\n",
       "      <td>0.133221</td>\n",
       "      <td>1.55096</td>\n",
       "      <td>10.090196</td>\n",
       "    </tr>\n",
       "    <tr>\n",
       "      <th>min</th>\n",
       "      <td>0.620000</td>\n",
       "      <td>514.500000</td>\n",
       "      <td>245.000000</td>\n",
       "      <td>110.250000</td>\n",
       "      <td>3.50000</td>\n",
       "      <td>2.000000</td>\n",
       "      <td>0.000000</td>\n",
       "      <td>0.00000</td>\n",
       "      <td>6.010000</td>\n",
       "    </tr>\n",
       "    <tr>\n",
       "      <th>25%</th>\n",
       "      <td>0.682500</td>\n",
       "      <td>606.375000</td>\n",
       "      <td>294.000000</td>\n",
       "      <td>140.875000</td>\n",
       "      <td>3.50000</td>\n",
       "      <td>2.750000</td>\n",
       "      <td>0.100000</td>\n",
       "      <td>1.75000</td>\n",
       "      <td>12.992500</td>\n",
       "    </tr>\n",
       "    <tr>\n",
       "      <th>50%</th>\n",
       "      <td>0.750000</td>\n",
       "      <td>673.750000</td>\n",
       "      <td>318.500000</td>\n",
       "      <td>183.750000</td>\n",
       "      <td>5.25000</td>\n",
       "      <td>3.500000</td>\n",
       "      <td>0.250000</td>\n",
       "      <td>3.00000</td>\n",
       "      <td>18.950000</td>\n",
       "    </tr>\n",
       "    <tr>\n",
       "      <th>75%</th>\n",
       "      <td>0.830000</td>\n",
       "      <td>741.125000</td>\n",
       "      <td>343.000000</td>\n",
       "      <td>220.500000</td>\n",
       "      <td>7.00000</td>\n",
       "      <td>4.250000</td>\n",
       "      <td>0.400000</td>\n",
       "      <td>4.00000</td>\n",
       "      <td>31.667500</td>\n",
       "    </tr>\n",
       "    <tr>\n",
       "      <th>max</th>\n",
       "      <td>0.980000</td>\n",
       "      <td>808.500000</td>\n",
       "      <td>416.500000</td>\n",
       "      <td>220.500000</td>\n",
       "      <td>7.00000</td>\n",
       "      <td>5.000000</td>\n",
       "      <td>0.400000</td>\n",
       "      <td>5.00000</td>\n",
       "      <td>43.100000</td>\n",
       "    </tr>\n",
       "  </tbody>\n",
       "</table>\n",
       "</div>"
      ],
      "text/plain": [
       "       RelCompactness  SurfaceArea    WallArea    RoofArea  OverallHgt  \\\n",
       "count      768.000000   768.000000  768.000000  768.000000   768.00000   \n",
       "mean         0.764167   671.708333  318.500000  176.604167     5.25000   \n",
       "std          0.105777    88.086116   43.626481   45.165950     1.75114   \n",
       "min          0.620000   514.500000  245.000000  110.250000     3.50000   \n",
       "25%          0.682500   606.375000  294.000000  140.875000     3.50000   \n",
       "50%          0.750000   673.750000  318.500000  183.750000     5.25000   \n",
       "75%          0.830000   741.125000  343.000000  220.500000     7.00000   \n",
       "max          0.980000   808.500000  416.500000  220.500000     7.00000   \n",
       "\n",
       "       Orientation  GlazingArea  GlazingAreaDist  HeatingLoad  \n",
       "count   768.000000   768.000000        768.00000   768.000000  \n",
       "mean      3.500000     0.234375          2.81250    22.307201  \n",
       "std       1.118763     0.133221          1.55096    10.090196  \n",
       "min       2.000000     0.000000          0.00000     6.010000  \n",
       "25%       2.750000     0.100000          1.75000    12.992500  \n",
       "50%       3.500000     0.250000          3.00000    18.950000  \n",
       "75%       4.250000     0.400000          4.00000    31.667500  \n",
       "max       5.000000     0.400000          5.00000    43.100000  "
      ]
     },
     "execution_count": 6,
     "metadata": {},
     "output_type": "execute_result"
    }
   ],
   "source": [
    "df.describe()"
   ]
  },
  {
   "cell_type": "code",
   "execution_count": 8,
   "metadata": {},
   "outputs": [
    {
     "data": {
      "text/plain": [
       "(1296, 9)"
      ]
     },
     "execution_count": 8,
     "metadata": {},
     "output_type": "execute_result"
    }
   ],
   "source": [
    "df.shape"
   ]
  },
  {
   "cell_type": "code",
   "execution_count": 12,
   "metadata": {},
   "outputs": [
    {
     "data": {
      "text/plain": [
       "RelCompactness     528\n",
       "SurfaceArea        528\n",
       "WallArea           528\n",
       "RoofArea           528\n",
       "OverallHgt         528\n",
       "Orientation        528\n",
       "GlazingArea        528\n",
       "GlazingAreaDist    528\n",
       "HeatingLoad        528\n",
       "dtype: int64"
      ]
     },
     "execution_count": 12,
     "metadata": {},
     "output_type": "execute_result"
    }
   ],
   "source": [
    "df.isnull().sum()"
   ]
  },
  {
   "cell_type": "code",
   "execution_count": 9,
   "metadata": {},
   "outputs": [
    {
     "data": {
      "text/plain": [
       "(768, 9)"
      ]
     },
     "execution_count": 9,
     "metadata": {},
     "output_type": "execute_result"
    }
   ],
   "source": [
    "df_new = df.dropna()\n",
    "df_new.shape"
   ]
  },
  {
   "cell_type": "code",
   "execution_count": 10,
   "metadata": {},
   "outputs": [
    {
     "data": {
      "text/plain": [
       "RelCompactness     0\n",
       "SurfaceArea        0\n",
       "WallArea           0\n",
       "RoofArea           0\n",
       "OverallHgt         0\n",
       "Orientation        0\n",
       "GlazingArea        0\n",
       "GlazingAreaDist    0\n",
       "HeatingLoad        0\n",
       "dtype: int64"
      ]
     },
     "execution_count": 10,
     "metadata": {},
     "output_type": "execute_result"
    }
   ],
   "source": [
    "df_new.isnull().sum()"
   ]
  },
  {
   "cell_type": "code",
   "execution_count": null,
   "metadata": {},
   "outputs": [],
   "source": [
    "X = df_new[['RelCompactness', 'WallArea', 'RoofArea']]  \n",
    "y = df_new['HeatingLoad']  \n",
    "\n",
    "\n",
    "# Create a linear regression model\n",
    "heatload_model = LinearRegression()\n",
    "\n",
    "# Fit the model on the  data\n",
    "heatload_model.fit(X, y)\n",
    "\n",
    "# Make predictions on the  data\n",
    "y_hat = heatloadmodel.predict(X)\n",
    "\n",
    "# Evaluate the model performance\n",
    "rmse = root_mean_squared_error(y, y_hat)\n",
    "print('Root Mean Squared Error:', rmse)\n",
    "\n",
    "# Get the coefficients and intercept\n",
    "print('Coefficients:', blue_model.coef_)\n",
    "print('Intercept:', blue_model.intercept_)"
   ]
  }
 ],
 "metadata": {
  "kernelspec": {
   "display_name": "base",
   "language": "python",
   "name": "python3"
  },
  "language_info": {
   "codemirror_mode": {
    "name": "ipython",
    "version": 3
   },
   "file_extension": ".py",
   "mimetype": "text/x-python",
   "name": "python",
   "nbconvert_exporter": "python",
   "pygments_lexer": "ipython3",
   "version": "3.12.2"
  }
 },
 "nbformat": 4,
 "nbformat_minor": 2
}
